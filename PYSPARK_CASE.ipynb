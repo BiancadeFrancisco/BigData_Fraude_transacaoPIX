{
  "nbformat": 4,
  "nbformat_minor": 0,
  "metadata": {
    "colab": {
      "provenance": [],
      "authorship_tag": "ABX9TyM4gOiVnB/RmNliGQNwpXwt",
      "include_colab_link": true
    },
    "kernelspec": {
      "name": "python3",
      "display_name": "Python 3"
    },
    "language_info": {
      "name": "python"
    }
  },
  "cells": [
    {
      "cell_type": "markdown",
      "metadata": {
        "id": "view-in-github",
        "colab_type": "text"
      },
      "source": [
        "<a href=\"https://colab.research.google.com/github/BiancadeFrancisco/BigData_Fraude_transacaoPIX/blob/main/PYSPARK_CASE.ipynb\" target=\"_parent\"><img src=\"https://colab.research.google.com/assets/colab-badge.svg\" alt=\"Open In Colab\"/></a>"
      ]
    },
    {
      "cell_type": "markdown",
      "source": [
        "\n",
        "- Arquivo .json\n",
        "\n",
        "  ```json\n",
        "  {\n",
        "      \"id_transacao\": inteiro,\n",
        "      \"valor\": texto,\n",
        "      \"remetente\": {\n",
        "          \"nome\": texto,\n",
        "          \"banco\": texto,\n",
        "          \"tipo\": texto\n",
        "      },\n",
        "      \"destinatario\": {\n",
        "          \"nome\": texto,\n",
        "          \"banco\":texto,\n",
        "          \"tipo\": texto\n",
        "      },          \n",
        "      \"categoria\":texto,\n",
        "      \"chave_pix\":texto,\n",
        "      \"transaction_date\":texto,\n",
        "      \"fraude\":inteiro,\n",
        "  }\n",
        "    ```\n",
        ""
      ],
      "metadata": {
        "id": "XEQDN7HSwSq_"
      }
    },
    {
      "cell_type": "markdown",
      "source": [
        "# Preparação do Ambiente de Desenvolvimento"
      ],
      "metadata": {
        "id": "lqgXAdM2wafN"
      }
    },
    {
      "cell_type": "code",
      "execution_count": null,
      "metadata": {
        "id": "pkHxITWnwBPG",
        "colab": {
          "base_uri": "https://localhost:8080/"
        },
        "outputId": "2994693b-e987-4cda-d63f-a08bb1aed141"
      },
      "outputs": [
        {
          "output_type": "stream",
          "name": "stdout",
          "text": [
            "Collecting pyspark\n",
            "  Downloading pyspark-3.4.1.tar.gz (310.8 MB)\n",
            "\u001b[2K     \u001b[90m━━━━━━━━━━━━━━━━━━━━━━━━━━━━━━━━━━━━━━━\u001b[0m \u001b[32m310.8/310.8 MB\u001b[0m \u001b[31m4.5 MB/s\u001b[0m eta \u001b[36m0:00:00\u001b[0m\n",
            "\u001b[?25h  Preparing metadata (setup.py) ... \u001b[?25l\u001b[?25hdone\n",
            "Requirement already satisfied: py4j==0.10.9.7 in /usr/local/lib/python3.10/dist-packages (from pyspark) (0.10.9.7)\n",
            "Building wheels for collected packages: pyspark\n",
            "  Building wheel for pyspark (setup.py) ... \u001b[?25l\u001b[?25hdone\n",
            "  Created wheel for pyspark: filename=pyspark-3.4.1-py2.py3-none-any.whl size=311285388 sha256=df92ee84a1ce6c795da0b57a89225c6ea429fd5743c43f6a6c84ebc55c721b4e\n",
            "  Stored in directory: /root/.cache/pip/wheels/0d/77/a3/ff2f74cc9ab41f8f594dabf0579c2a7c6de920d584206e0834\n",
            "Successfully built pyspark\n",
            "Installing collected packages: pyspark\n",
            "Successfully installed pyspark-3.4.1\n",
            "Authtoken saved to configuration file: /root/.ngrok2/ngrok.yml\n",
            "https://b404-35-233-183-41.ngrok-free.app\n"
          ]
        }
      ],
      "source": [
        "# Instalar a última versão do PySpark\n",
        "!pip install pyspark #==3.3.1\n",
        "\n",
        "# Instalar o NGROK\n",
        "!wget -qnc https://bin.equinox.io/c/4VmDzA7iaHb/ngrok-stable-linux-amd64.zip\n",
        "!unzip -n -q ngrok-stable-linux-amd64.zip\n",
        "\n",
        "# Autenticar a sessão do SparkUI com NGROK\n",
        "!./ngrok authtoken 2KBeQEmmd1YNlQ86GGKf3KFOkb3_6sQH7JEnvEhDxwn9A7WnT\n",
        "get_ipython().system_raw('./ngrok http 4050 &')\n",
        "!sleep 10\n",
        "!curl -s http://localhost:4040/api/tunnels | grep -Po 'public_url\":\"(?=https)\\K[^\"]*'"
      ]
    },
    {
      "cell_type": "markdown",
      "source": [
        "# Preparação dos Dados\n"
      ],
      "metadata": {
        "id": "UFQJo2Gm11ce"
      }
    },
    {
      "cell_type": "code",
      "source": [
        "# Iniciar a sessão spark:\n",
        "\n",
        "from pyspark.sql import SparkSession\n",
        "\n",
        "spark = (\n",
        "    SparkSession.builder\n",
        "      .config('spark.ui.port', '4050')\n",
        "      .appName(\"CaseFinal\")\n",
        "      .getOrCreate()\n",
        ")"
      ],
      "metadata": {
        "id": "E4H4rtuo5iSB"
      },
      "execution_count": null,
      "outputs": []
    },
    {
      "cell_type": "code",
      "source": [
        "from pyspark.sql.types import *\n",
        "\n",
        "caminho_json = '/content/case_final.json'\n",
        "\n",
        "#schema = ESQUEMA/PROGRAMA/ESBOÇO\n",
        "\n",
        "schema_remetente_destinatario = StructType([\n",
        "    StructField('nome', StringType()),\n",
        "    StructField('banco', StringType()),\n",
        "    StructField('tipo', StringType())\n",
        "])\n",
        "\n",
        "\n",
        "schema_base_pix = StructType([\n",
        "    StructField('id_transacao', IntegerType()),\n",
        "    StructField('valor', DoubleType()),\n",
        "    StructField('remetente', schema_remetente_destinatario),\n",
        "    StructField('destinatario', schema_remetente_destinatario),\n",
        "    StructField('chave_pix', StringType()),\n",
        "    StructField('categoria', StringType()),\n",
        "    StructField('transaction_date', StringType()),\n",
        "    StructField('fraude', IntegerType())\n",
        "])\n",
        "\n",
        "\n",
        "# formato de data do nosso arquivo original: 2022-10-20 10:57:36\n",
        "\n",
        "df = spark.read.json(\n",
        "    caminho_json,\n",
        "    schema=schema_base_pix,\n",
        "    timestampFormat=\"yyyy-MM-dd HH:mm:ss\",\n",
        ")"
      ],
      "metadata": {
        "id": "kFyC6NZ_5jpT"
      },
      "execution_count": null,
      "outputs": []
    },
    {
      "cell_type": "code",
      "source": [
        "# VER TIPOS DE DADOS:\n",
        "\n",
        "df.printSchema()"
      ],
      "metadata": {
        "colab": {
          "base_uri": "https://localhost:8080/"
        },
        "id": "ww1DVPjQ5jdq",
        "outputId": "25d09e63-5d1d-4824-d54c-2302968ebb5e"
      },
      "execution_count": null,
      "outputs": [
        {
          "output_type": "stream",
          "name": "stdout",
          "text": [
            "root\n",
            " |-- id_transacao: integer (nullable = true)\n",
            " |-- valor: double (nullable = true)\n",
            " |-- remetente: struct (nullable = true)\n",
            " |    |-- nome: string (nullable = true)\n",
            " |    |-- banco: string (nullable = true)\n",
            " |    |-- tipo: string (nullable = true)\n",
            " |-- destinatario: struct (nullable = true)\n",
            " |    |-- nome: string (nullable = true)\n",
            " |    |-- banco: string (nullable = true)\n",
            " |    |-- tipo: string (nullable = true)\n",
            " |-- chave_pix: string (nullable = true)\n",
            " |-- categoria: string (nullable = true)\n",
            " |-- transaction_date: string (nullable = true)\n",
            " |-- fraude: integer (nullable = true)\n",
            "\n"
          ]
        }
      ]
    },
    {
      "cell_type": "code",
      "source": [
        "df.show()"
      ],
      "metadata": {
        "colab": {
          "base_uri": "https://localhost:8080/"
        },
        "id": "z3xPyeKs5jV2",
        "outputId": "65814ad0-06e2-4c6e-c7d0-454d953a9253"
      },
      "execution_count": null,
      "outputs": [
        {
          "output_type": "stream",
          "name": "stdout",
          "text": [
            "+------------+------------------+--------------------+--------------------+---------+-------------+-------------------+------+\n",
            "|id_transacao|             valor|           remetente|        destinatario|chave_pix|    categoria|   transaction_date|fraude|\n",
            "+------------+------------------+--------------------+--------------------+---------+-------------+-------------------+------+\n",
            "|        1000|            588.08|{Jonathan Gonsalv...|{Calebe Melo, Cai...|aleatoria|       outros|2021-07-16 05:00:55|     0|\n",
            "|        1001|           80682.5|{Jonathan Gonsalv...|{Davi Lucas Perei...|  celular|transferencia|2022-04-20 12:34:01|     1|\n",
            "|        1002|             549.9|{Jonathan Gonsalv...|{Sabrina Castro, ...|      cpf|        lazer|2022-07-10 16:51:34|     0|\n",
            "|        1003|             90.83|{Jonathan Gonsalv...|{Francisco da Con...|aleatoria|   transporte|2022-10-20 10:57:36|     0|\n",
            "|        1004|13272.619999999999|{Jonathan Gonsalv...|{Isabelly Ferreir...|    email|transferencia|2021-04-06 20:26:51|     0|\n",
            "|        1005|           9347.58|{Jonathan Gonsalv...|{Srta. Maria da C...|aleatoria|        saude|2022-07-24 15:22:27|     0|\n",
            "|        1006|           7836.76|{Jonathan Gonsalv...|{Catarina Duarte,...|      cpf|    presentes|2022-10-05 19:20:24|     0|\n",
            "|        1007|           3883.62|{Jonathan Gonsalv...|{Vitor Correia, X...|      cpf|    vestuario|2021-04-24 17:36:34|     0|\n",
            "|        1008|               4.0|{Jonathan Gonsalv...|{Theo Novaes, C6,...|aleatoria|        saude|2021-11-16 21:46:47|     0|\n",
            "|        1009|              24.3|{Jonathan Gonsalv...|{Isabel Caldeira,...|      cpf|transferencia|2021-07-26 02:08:49|     0|\n",
            "|        1010|           87555.3|{Jonathan Gonsalv...|{Sr. Henrique Car...|aleatoria|transferencia|2022-03-14 15:34:45|     1|\n",
            "|        1011|          21345.91|{Jonathan Gonsalv...|{Felipe Cavalcant...|      cpf|transferencia|2021-10-31 04:31:51|     1|\n",
            "|        1012|          73605.85|{Jonathan Gonsalv...|{Dr. Davi da Luz,...|  celular|transferencia|2021-04-30 19:19:56|     1|\n",
            "|        1013|             93.53|{Jonathan Gonsalv...|{Stephany Cardoso...|      cpf|  alimentacao|2023-01-13 13:39:57|     0|\n",
            "|        1014|            564.11|{Jonathan Gonsalv...|{Sra. Julia Arauj...|aleatoria|    vestuario|2022-05-27 23:06:08|     0|\n",
            "|        1015|              3.59|{Jonathan Gonsalv...|{Carolina Farias,...|    email|        saude|2021-10-06 21:19:58|     0|\n",
            "|        1016|          19164.89|{Jonathan Gonsalv...|{Isabelly da Cost...|    email|  alimentacao|2022-03-06 17:59:43|     0|\n",
            "|        1017|             68.45|{Jonathan Gonsalv...|{Joao Miguel Silv...|aleatoria|    vestuario|2022-04-01 18:17:40|     0|\n",
            "|        1018|            941.25|{Jonathan Gonsalv...|{Matheus Moura, C...|  celular|    vestuario|2022-05-23 00:28:13|     0|\n",
            "|        1019|27009.910000000003|{Jonathan Gonsalv...|{Gabrielly Goncal...|    email|transferencia|2021-08-04 23:22:37|     1|\n",
            "+------------+------------------+--------------------+--------------------+---------+-------------+-------------------+------+\n",
            "only showing top 20 rows\n",
            "\n"
          ]
        }
      ]
    },
    {
      "cell_type": "code",
      "source": [
        "# PRECISO FAZER UM FLATEN NA COLUNA REMETENTE E DESTINATÁIO PARA ABRIR OS DADOS QUE CONSTAM NELAS, APÓS POSSO EXCLUIR AS ORIGINAIS:\n",
        "\n",
        "from pyspark.sql.functions import col\n",
        "\n",
        "df_flatten = df.withColumns({\n",
        "    'remetente_nome':  col('remetente').getField('nome'),\n",
        "    'remetente_banco':  col('remetente').getField('banco'),\n",
        "    'remetente_tipo':  col('remetente').getField('tipo'),\n",
        "    'destinatario_nome':  col('destinatario').getField('nome'),\n",
        "    'destinatario_banco':  col('destinatario').getField('banco'),\n",
        "    'destinatario_tipo':  col('destinatario').getField('tipo'),\n",
        "}).drop('remetente', 'destinatario')\n",
        "\n"
      ],
      "metadata": {
        "id": "xDf1wLeS5jLc"
      },
      "execution_count": null,
      "outputs": []
    },
    {
      "cell_type": "code",
      "source": [
        "# VERIFICAR COMO FICARAM OS DADOS APÓS AJUSTE DAS COLUNAS REMETENTE E DESTINATÁRIO:\n",
        "\n",
        "df_flatten.printSchema()\n",
        "\n",
        "df_flatten.show()"
      ],
      "metadata": {
        "colab": {
          "base_uri": "https://localhost:8080/"
        },
        "id": "ONamDLw88PJE",
        "outputId": "4f55a20b-a97d-4f1a-9f10-36c9ca478756"
      },
      "execution_count": null,
      "outputs": [
        {
          "output_type": "stream",
          "name": "stdout",
          "text": [
            "root\n",
            " |-- id_transacao: integer (nullable = true)\n",
            " |-- valor: double (nullable = true)\n",
            " |-- chave_pix: string (nullable = true)\n",
            " |-- categoria: string (nullable = true)\n",
            " |-- transaction_date: string (nullable = true)\n",
            " |-- fraude: integer (nullable = true)\n",
            " |-- remetente_nome: string (nullable = true)\n",
            " |-- remetente_banco: string (nullable = true)\n",
            " |-- remetente_tipo: string (nullable = true)\n",
            " |-- destinatario_nome: string (nullable = true)\n",
            " |-- destinatario_banco: string (nullable = true)\n",
            " |-- destinatario_tipo: string (nullable = true)\n",
            "\n",
            "+------------+------------------+---------+-------------+-------------------+------+------------------+---------------+--------------+--------------------+------------------+-----------------+\n",
            "|id_transacao|             valor|chave_pix|    categoria|   transaction_date|fraude|    remetente_nome|remetente_banco|remetente_tipo|   destinatario_nome|destinatario_banco|destinatario_tipo|\n",
            "+------------+------------------+---------+-------------+-------------------+------+------------------+---------------+--------------+--------------------+------------------+-----------------+\n",
            "|        1000|            588.08|aleatoria|       outros|2021-07-16 05:00:55|     0|Jonathan Gonsalves|            BTG|            PF|         Calebe Melo|             Caixa|               PF|\n",
            "|        1001|           80682.5|  celular|transferencia|2022-04-20 12:34:01|     1|Jonathan Gonsalves|            BTG|            PF|  Davi Lucas Pereira|             Caixa|               PJ|\n",
            "|        1002|             549.9|      cpf|        lazer|2022-07-10 16:51:34|     0|Jonathan Gonsalves|            BTG|            PF|      Sabrina Castro|            Nubank|               PF|\n",
            "|        1003|             90.83|aleatoria|   transporte|2022-10-20 10:57:36|     0|Jonathan Gonsalves|            BTG|            PF|Francisco da Conc...|            Nubank|               PJ|\n",
            "|        1004|13272.619999999999|    email|transferencia|2021-04-06 20:26:51|     0|Jonathan Gonsalves|            BTG|            PF|   Isabelly Ferreira|               BTG|               PJ|\n",
            "|        1005|           9347.58|aleatoria|        saude|2022-07-24 15:22:27|     0|Jonathan Gonsalves|            BTG|            PF|Srta. Maria da Cunha|              Itau|               PJ|\n",
            "|        1006|           7836.76|      cpf|    presentes|2022-10-05 19:20:24|     0|Jonathan Gonsalves|            BTG|            PF|     Catarina Duarte|                C6|               PF|\n",
            "|        1007|           3883.62|      cpf|    vestuario|2021-04-24 17:36:34|     0|Jonathan Gonsalves|            BTG|            PF|       Vitor Correia|                XP|               PJ|\n",
            "|        1008|               4.0|aleatoria|        saude|2021-11-16 21:46:47|     0|Jonathan Gonsalves|            BTG|            PF|         Theo Novaes|                C6|               PJ|\n",
            "|        1009|              24.3|      cpf|transferencia|2021-07-26 02:08:49|     0|Jonathan Gonsalves|            BTG|            PF|     Isabel Caldeira|                XP|               PJ|\n",
            "|        1010|           87555.3|aleatoria|transferencia|2022-03-14 15:34:45|     1|Jonathan Gonsalves|            BTG|            PF|Sr. Henrique Cardoso|            Nubank|               PF|\n",
            "|        1011|          21345.91|      cpf|transferencia|2021-10-31 04:31:51|     1|Jonathan Gonsalves|            BTG|            PF|   Felipe Cavalcanti|            Nubank|               PJ|\n",
            "|        1012|          73605.85|  celular|transferencia|2021-04-30 19:19:56|     1|Jonathan Gonsalves|            BTG|            PF|     Dr. Davi da Luz|          Bradesco|               PJ|\n",
            "|        1013|             93.53|      cpf|  alimentacao|2023-01-13 13:39:57|     0|Jonathan Gonsalves|            BTG|            PF|    Stephany Cardoso|                C6|               PJ|\n",
            "|        1014|            564.11|aleatoria|    vestuario|2022-05-27 23:06:08|     0|Jonathan Gonsalves|            BTG|            PF|   Sra. Julia Araujo|              Itau|               PJ|\n",
            "|        1015|              3.59|    email|        saude|2021-10-06 21:19:58|     0|Jonathan Gonsalves|            BTG|            PF|     Carolina Farias|            Nubank|               PJ|\n",
            "|        1016|          19164.89|    email|  alimentacao|2022-03-06 17:59:43|     0|Jonathan Gonsalves|            BTG|            PF|   Isabelly da Costa|            Nubank|               PJ|\n",
            "|        1017|             68.45|aleatoria|    vestuario|2022-04-01 18:17:40|     0|Jonathan Gonsalves|            BTG|            PF|Joao Miguel Silveira|                C6|               PJ|\n",
            "|        1018|            941.25|  celular|    vestuario|2022-05-23 00:28:13|     0|Jonathan Gonsalves|            BTG|            PF|       Matheus Moura|                C6|               PF|\n",
            "|        1019|27009.910000000003|    email|transferencia|2021-08-04 23:22:37|     1|Jonathan Gonsalves|            BTG|            PF| Gabrielly Goncalves|              Itau|               PJ|\n",
            "+------------+------------------+---------+-------------+-------------------+------+------------------+---------------+--------------+--------------------+------------------+-----------------+\n",
            "only showing top 20 rows\n",
            "\n"
          ]
        }
      ]
    },
    {
      "cell_type": "code",
      "source": [
        "# DESCREVER ESTATISTICAMENTE OS DADOS\n",
        "\n",
        "df_flatten.describe().show()\n",
        "\n",
        "# EXEMPLO DE LEITURA APÓS DESCRIÇÃO ESTATISTICA DOS DADOS:\n",
        "  # coluna valor: há transações com no mín 0,00 e máx 89996,33\n",
        "  # coluna fraude: em torno de 15% é considerado fraude\n",
        "  # coluna transaction_date: os dados estão entre 14/01/2021 e 15/01/2023\n"
      ],
      "metadata": {
        "colab": {
          "base_uri": "https://localhost:8080/"
        },
        "id": "ZaWPsm7b8PC_",
        "outputId": "fe7469ff-427a-4437-ed82-6cb31ae76717"
      },
      "execution_count": null,
      "outputs": [
        {
          "output_type": "stream",
          "name": "stdout",
          "text": [
            "+-------+-----------------+------------------+---------+-----------+-------------------+------------------+------------------+---------------+--------------+-----------------+------------------+-----------------+\n",
            "|summary|     id_transacao|             valor|chave_pix|  categoria|   transaction_date|            fraude|    remetente_nome|remetente_banco|remetente_tipo|destinatario_nome|destinatario_banco|destinatario_tipo|\n",
            "+-------+-----------------+------------------+---------+-----------+-------------------+------------------+------------------+---------------+--------------+-----------------+------------------+-----------------+\n",
            "|  count|           100000|            100000|   100000|     100000|             100000|            100000|            100000|         100000|        100000|           100000|            100000|           100000|\n",
            "|   mean|          50999.5|10303.358732200059|     null|       null|               null|           0.15367|              null|           null|          null|             null|              null|             null|\n",
            "| stddev|28867.65779668774| 20874.99768875586|     null|       null|               null|0.3606339302787737|              null|           null|          null|             null|              null|             null|\n",
            "|    min|             1000|               0.0|aleatoria|alimentacao|2021-01-14 15:37:45|                 0|Jonathan Gonsalves|            BTG|            PF|   Agatha Almeida|               BTG|               PF|\n",
            "|    max|           100999|          89996.33|    email|  vestuario|2023-01-15 02:51:10|                 1|Jonathan Gonsalves|            BTG|            PF|   Yuri das Neves|                XP|               PJ|\n",
            "+-------+-----------------+------------------+---------+-----------+-------------------+------------------+------------------+---------------+--------------+-----------------+------------------+-----------------+\n",
            "\n"
          ]
        }
      ]
    },
    {
      "cell_type": "markdown",
      "source": [
        "# Modelagem\n"
      ],
      "metadata": {
        "id": "TdsBuOUp115T"
      }
    },
    {
      "cell_type": "code",
      "source": [
        "# - Para qual banco esse cliente mais transfere?\n",
        "\n",
        "df_flatten.groupBy('destinatario_banco').count().orderBy('count').show()\n",
        "\n",
        "# banco com maior tranferência: XP"
      ],
      "metadata": {
        "colab": {
          "base_uri": "https://localhost:8080/"
        },
        "id": "ZhCKv2Mi8O8W",
        "outputId": "e296908e-3a6f-4bb2-bbfe-2fd8a66be6d0"
      },
      "execution_count": null,
      "outputs": [
        {
          "output_type": "stream",
          "name": "stdout",
          "text": [
            "+------------------+-----+\n",
            "|destinatario_banco|count|\n",
            "+------------------+-----+\n",
            "|          Bradesco|14187|\n",
            "|                C6|14204|\n",
            "|             Caixa|14240|\n",
            "|              Itau|14281|\n",
            "|            Nubank|14297|\n",
            "|               BTG|14390|\n",
            "|                XP|14401|\n",
            "+------------------+-----+\n",
            "\n"
          ]
        }
      ]
    },
    {
      "cell_type": "code",
      "source": [
        "# sei que o banco que mais faz transferencia é o XP, mas qual banco é mais utilizado por mÊs?\n",
        "# primeiro, preciso ajustar a data apenas para o formato de mês e ano\n",
        "\n",
        "from pyspark.sql.functions import date_format\n",
        "\n",
        "df_flatten.groupBy(\n",
        "    date_format(col('transaction_date'), 'yyyy-MM').alias('ano_mes'),\n",
        "    'destinatario_banco'\n",
        ").count().orderBy(col('ano_mes').desc()).show()"
      ],
      "metadata": {
        "colab": {
          "base_uri": "https://localhost:8080/"
        },
        "id": "q-zTuKgk9Wxj",
        "outputId": "a016c122-9ba4-4b45-d54b-760830cd0609"
      },
      "execution_count": null,
      "outputs": [
        {
          "output_type": "stream",
          "name": "stdout",
          "text": [
            "+-------+------------------+-----+\n",
            "|ano_mes|destinatario_banco|count|\n",
            "+-------+------------------+-----+\n",
            "|2023-01|              Itau|  267|\n",
            "|2023-01|             Caixa|  277|\n",
            "|2023-01|                XP|  277|\n",
            "|2023-01|          Bradesco|  280|\n",
            "|2023-01|            Nubank|  290|\n",
            "|2023-01|                C6|  290|\n",
            "|2023-01|               BTG|  278|\n",
            "|2022-12|                XP|  615|\n",
            "|2022-12|               BTG|  603|\n",
            "|2022-12|                C6|  576|\n",
            "|2022-12|          Bradesco|  575|\n",
            "|2022-12|            Nubank|  602|\n",
            "|2022-12|              Itau|  633|\n",
            "|2022-12|             Caixa|  616|\n",
            "|2022-11|          Bradesco|  579|\n",
            "|2022-11|               BTG|  580|\n",
            "|2022-11|              Itau|  614|\n",
            "|2022-11|            Nubank|  620|\n",
            "|2022-11|             Caixa|  543|\n",
            "|2022-11|                C6|  561|\n",
            "+-------+------------------+-----+\n",
            "only showing top 20 rows\n",
            "\n"
          ]
        }
      ]
    },
    {
      "cell_type": "code",
      "source": [
        "# Qual o valor médio de transações por banco?\n",
        "\n",
        "df_flatten.groupBy(\n",
        "    'destinatario_banco'\n",
        ").avg('valor').orderBy('avg(valor)').show()\n",
        "\n",
        "# consigo visualizar com esse dado, que o BTG, por exemplo é o segundo banco com mais transações, porém é o banco com transações em valores menores"
      ],
      "metadata": {
        "colab": {
          "base_uri": "https://localhost:8080/"
        },
        "id": "Lf9kQWIB9Wp-",
        "outputId": "445e5221-ba3f-4f6c-96f0-136be3ede346"
      },
      "execution_count": null,
      "outputs": [
        {
          "output_type": "stream",
          "name": "stdout",
          "text": [
            "+------------------+------------------+\n",
            "|destinatario_banco|        avg(valor)|\n",
            "+------------------+------------------+\n",
            "|               BTG|10122.299803335622|\n",
            "|              Itau|10230.876305580874|\n",
            "|             Caixa|10254.864015449395|\n",
            "|                C6|10309.499774711307|\n",
            "|            Nubank|10316.475401133126|\n",
            "|                XP|10328.071572113045|\n",
            "|          Bradesco| 10564.19458870794|\n",
            "+------------------+------------------+\n",
            "\n"
          ]
        }
      ]
    },
    {
      "cell_type": "code",
      "source": [
        "# Quais categorias é gasto em cada banco?\n",
        "\n",
        "df_flatten.groupBy(\n",
        "    date_format(col('transaction_date'), 'yyyy-MM').alias('ano_mes'),\n",
        "    'destinatario_banco',\n",
        "    'categoria'\n",
        ").count().orderBy('ano_mes').show()\n",
        "\n",
        "# podemos ver que a categoria transferência possui os maiores valores gastos"
      ],
      "metadata": {
        "colab": {
          "base_uri": "https://localhost:8080/"
        },
        "id": "Dloib4of9WiM",
        "outputId": "b63d55a2-43de-43d6-ff40-20ffd71781ad"
      },
      "execution_count": null,
      "outputs": [
        {
          "output_type": "stream",
          "name": "stdout",
          "text": [
            "+-------+------------------+-------------+-----+\n",
            "|ano_mes|destinatario_banco|    categoria|count|\n",
            "+-------+------------------+-------------+-----+\n",
            "|2021-01|             Caixa|     educacao|   24|\n",
            "|2021-01|              Itau|        saude|   40|\n",
            "|2021-01|            Nubank|        saude|   28|\n",
            "|2021-01|                XP|    presentes|   38|\n",
            "|2021-01|               BTG|   transporte|   29|\n",
            "|2021-01|               BTG|  alimentacao|   31|\n",
            "|2021-01|              Itau|transferencia|   75|\n",
            "|2021-01|                XP|       outros|   34|\n",
            "|2021-01|                XP|   transporte|   26|\n",
            "|2021-01|          Bradesco|transferencia|   96|\n",
            "|2021-01|              Itau|    vestuario|   28|\n",
            "|2021-01|               BTG|        lazer|   34|\n",
            "|2021-01|          Bradesco|   transporte|   40|\n",
            "|2021-01|                XP|transferencia|   89|\n",
            "|2021-01|                C6|  alimentacao|   38|\n",
            "|2021-01|             Caixa|        lazer|   37|\n",
            "|2021-01|          Bradesco|       outros|   25|\n",
            "|2021-01|            Nubank|    presentes|   33|\n",
            "|2021-01|                C6|transferencia|   87|\n",
            "|2021-01|             Caixa|       outros|   38|\n",
            "+-------+------------------+-------------+-----+\n",
            "only showing top 20 rows\n",
            "\n"
          ]
        }
      ]
    },
    {
      "cell_type": "code",
      "source": [
        "# soma de quanto ele gasta em cada categoria por mês\n",
        "\n",
        "df_flatten.groupBy(\n",
        "    date_format(col('transaction_date'), 'yyyy').alias('ano'),\n",
        "    'categoria'\n",
        ").sum('valor').select('ano', 'categoria', col('sum(valor)').cast(DecimalType(38, 3)).alias('valor')).orderBy('valor').show(30)\n",
        "\n",
        "# confirma que os valores de transferencia são os mais altos"
      ],
      "metadata": {
        "colab": {
          "base_uri": "https://localhost:8080/"
        },
        "id": "hTtK5-VV9WaL",
        "outputId": "d0e91164-eb90-46cb-ddaa-6bd59d81eb61"
      },
      "execution_count": null,
      "outputs": [
        {
          "output_type": "stream",
          "name": "stdout",
          "text": [
            "+----+-------------+-------------+\n",
            "| ano|    categoria|        valor|\n",
            "+----+-------------+-------------+\n",
            "|2023|    presentes|   362584.450|\n",
            "|2023|  alimentacao|   392078.310|\n",
            "|2023|        saude|   400683.640|\n",
            "|2023|   transporte|   427790.540|\n",
            "|2023|     educacao|   432305.660|\n",
            "|2023|    vestuario|   459528.700|\n",
            "|2023|        lazer|   469671.410|\n",
            "|2023|       outros|   501308.340|\n",
            "|2021|   transporte|  9497893.470|\n",
            "|2021|        lazer|  9622503.140|\n",
            "|2021|       outros|  9737076.380|\n",
            "|2022|        saude| 10048245.070|\n",
            "|2021|     educacao| 10106095.070|\n",
            "|2021|  alimentacao| 10237928.250|\n",
            "|2022|        lazer| 10295747.630|\n",
            "|2022|    presentes| 10311585.740|\n",
            "|2022|     educacao| 10367124.440|\n",
            "|2021|        saude| 10384662.820|\n",
            "|2021|    vestuario| 10412651.930|\n",
            "|2021|    presentes| 10496042.020|\n",
            "|2022|  alimentacao| 10545783.230|\n",
            "|2022|   transporte| 10553408.290|\n",
            "|2022|       outros| 10566645.100|\n",
            "|2022|    vestuario| 10696006.480|\n",
            "|2023|transferencia| 16148682.620|\n",
            "|2021|transferencia|416670741.700|\n",
            "|2022|transferencia|430191098.790|\n",
            "+----+-------------+-------------+\n",
            "\n"
          ]
        }
      ]
    },
    {
      "cell_type": "code",
      "source": [
        "# média de transferencia por período\n",
        "\n",
        "df_flatten.groupBy(\n",
        "    date_format(col('transaction_date'), 'yyyy').alias('ano')\n",
        ").avg('id_transacao').select('ano',col('avg(id_transacao)').alias('avg')).orderBy('ano').show(30)"
      ],
      "metadata": {
        "colab": {
          "base_uri": "https://localhost:8080/"
        },
        "id": "utKk8xx9Bc3f",
        "outputId": "118ea68d-c08d-4ca5-f438-fb842e90dad4"
      },
      "execution_count": null,
      "outputs": [
        {
          "output_type": "stream",
          "name": "stdout",
          "text": [
            "+----+------------------+\n",
            "| ano|               avg|\n",
            "+----+------------------+\n",
            "|2021| 51204.03597092333|\n",
            "|2022|50823.494263441935|\n",
            "|2023| 50481.67993874426|\n",
            "+----+------------------+\n",
            "\n"
          ]
        }
      ]
    },
    {
      "cell_type": "code",
      "source": [
        "# quantas transações com fraude existe:\n",
        "\n",
        "df_flatten.groupBy('fraude').count().show()\n"
      ],
      "metadata": {
        "colab": {
          "base_uri": "https://localhost:8080/"
        },
        "id": "tCkqFF9cBczF",
        "outputId": "23741e20-9d6d-433b-852c-ad1d0d22143a"
      },
      "execution_count": null,
      "outputs": [
        {
          "output_type": "stream",
          "name": "stdout",
          "text": [
            "+------+-----+\n",
            "|fraude|count|\n",
            "+------+-----+\n",
            "|     1|15367|\n",
            "|     0|84633|\n",
            "+------+-----+\n",
            "\n"
          ]
        }
      ]
    },
    {
      "cell_type": "code",
      "source": [
        "# qual categoria possui mais fraude:\n",
        "\n",
        "df_flatten.groupBy('categoria', 'fraude').count().show()\n",
        "\n",
        "# a unica categoria que tem fraude é a de transferência, que tem 15367 fraudes e 9377 não fraudes"
      ],
      "metadata": {
        "colab": {
          "base_uri": "https://localhost:8080/"
        },
        "id": "9Jn24SjdBu3q",
        "outputId": "5d016c57-3316-4e43-b61a-039f751339fd"
      },
      "execution_count": null,
      "outputs": [
        {
          "output_type": "stream",
          "name": "stdout",
          "text": [
            "+-------------+------+-----+\n",
            "|    categoria|fraude|count|\n",
            "+-------------+------+-----+\n",
            "|       outros|     0| 9377|\n",
            "|     educacao|     0| 9460|\n",
            "|transferencia|     0| 9377|\n",
            "|transferencia|     1|15367|\n",
            "|    presentes|     0| 9254|\n",
            "|        saude|     0| 9476|\n",
            "|        lazer|     0| 9464|\n",
            "|   transporte|     0| 9174|\n",
            "|    vestuario|     0| 9503|\n",
            "|  alimentacao|     0| 9548|\n",
            "+-------------+------+-----+\n",
            "\n"
          ]
        }
      ]
    },
    {
      "cell_type": "code",
      "source": [
        "# filtrar categoria transferencia e verificar/confirmar o número de fraudes:\n",
        "\n",
        "df_flatten.filter(\n",
        "    col('categoria') == 'transferencia'\n",
        ").groupBy('categoria', 'fraude').count().show()"
      ],
      "metadata": {
        "colab": {
          "base_uri": "https://localhost:8080/"
        },
        "id": "5P_ntwhHB3q6",
        "outputId": "a33f78f4-8592-4bd3-d378-65d5f0f017c9"
      },
      "execution_count": null,
      "outputs": [
        {
          "output_type": "stream",
          "name": "stdout",
          "text": [
            "+-------------+------+-----+\n",
            "|    categoria|fraude|count|\n",
            "+-------------+------+-----+\n",
            "|transferencia|     0| 9377|\n",
            "|transferencia|     1|15367|\n",
            "+-------------+------+-----+\n",
            "\n"
          ]
        }
      ]
    },
    {
      "cell_type": "code",
      "source": [
        "# Quero saber os valores de fraude. Primeiro cria-se uma coluna range (extensão/faixa de valores) sempre de 10 mil em 10 mil reais, para então realizar a contagem de fraudes dentro dessas faixas de valores.\n",
        "\n",
        "from pyspark.sql.functions import floor\n",
        "\n",
        "df_flatten.filter(col('fraude') == 1).withColumn(\n",
        "    \"range\",\n",
        "    floor(col(\"valor\")/1000)*1000\n",
        ").groupBy('range').count().orderBy(col('range').desc()).show()\n",
        "\n",
        "# leitura: podemos ver que na faixa de 89 mil, tenho 222 transações com fraude"
      ],
      "metadata": {
        "colab": {
          "base_uri": "https://localhost:8080/"
        },
        "id": "EpqHUTuwCP1M",
        "outputId": "c2cb63a2-c337-438c-f0e3-4e54b7d7824f"
      },
      "execution_count": null,
      "outputs": [
        {
          "output_type": "stream",
          "name": "stdout",
          "text": [
            "+-----+-----+\n",
            "|range|count|\n",
            "+-----+-----+\n",
            "|89000|  222|\n",
            "|88000|  208|\n",
            "|87000|  230|\n",
            "|86000|  203|\n",
            "|85000|  205|\n",
            "|84000|  245|\n",
            "|83000|  206|\n",
            "|82000|  206|\n",
            "|81000|  214|\n",
            "|80000|  213|\n",
            "|79000|  205|\n",
            "|78000|  230|\n",
            "|77000|  237|\n",
            "|76000|  232|\n",
            "|75000|  190|\n",
            "|74000|  207|\n",
            "|73000|  237|\n",
            "|72000|  234|\n",
            "|71000|  234|\n",
            "|70000|  222|\n",
            "+-----+-----+\n",
            "only showing top 20 rows\n",
            "\n"
          ]
        }
      ]
    },
    {
      "cell_type": "code",
      "source": [
        "# quero saber qual o valor mínimo e máximo considerado fraude\n",
        "\n",
        "from pyspark.sql.functions import max, min\n",
        "\n",
        "df_flatten.filter(\n",
        "    col('fraude') == 1\n",
        ").withColumn(\n",
        "    \"range\", floor(col(\"valor\")/1000)*1000\n",
        ").select(max('range'), min('range')).show()\n",
        "\n",
        "# leitura: tive transferência considerada fraude com valores acima de 19000,00 *SERÁ QUE PRECISO BLOQUEAR TRANSFERENCIAS ACIMA DESSE VALOR, PARA EVITAR FRAUDES?)"
      ],
      "metadata": {
        "colab": {
          "base_uri": "https://localhost:8080/"
        },
        "id": "GkD6rWbXCPtF",
        "outputId": "6fb0d5ae-c8c5-484c-e4a2-d5e769f74a8e"
      },
      "execution_count": null,
      "outputs": [
        {
          "output_type": "stream",
          "name": "stdout",
          "text": [
            "+----------+----------+\n",
            "|max(range)|min(range)|\n",
            "+----------+----------+\n",
            "|     89000|     19000|\n",
            "+----------+----------+\n",
            "\n"
          ]
        }
      ]
    },
    {
      "cell_type": "markdown",
      "source": [
        "## Modelo de Predição de Fraudes"
      ],
      "metadata": {
        "id": "A5Y7GvXs12Pj"
      }
    },
    {
      "cell_type": "code",
      "source": [
        "from pyspark.sql.functions import col, udf\n",
        "\n",
        "from pyspark.ml import Pipeline  # VAI CRIAR UM PIPELINE (linha de processo) PARA EU EXECUTAR AS AÇÕES DO ALGORITMO\n",
        "from pyspark.ml.feature import StringIndexer  # VAI TRANSFORMAR O QUE É DADO CATEGÓRICO EM NUMÉRICO (para regressão logistica utilizamos apenas números)\n",
        "from pyspark.ml.feature import VectorAssembler # VAI UNIR TODAS AS COLUNAS EM APENAS UMA\n",
        "from pyspark.ml.classification import LogisticRegression # NOSSO ALGORITMO DE MACHINE LEARNING PARA CLASSIFICAÇÃO"
      ],
      "metadata": {
        "id": "w1abr4qPDqX_"
      },
      "execution_count": null,
      "outputs": []
    },
    {
      "cell_type": "code",
      "source": [
        "# EXCLUIR ALGUMAS COLUNAS QUE NÃO SERÃO RELEVANTES EM NOSSAS ANÁLISES / CRIAR UM NOVO DATASET APENAS COM AS COLUNAS NECESSÁRIAS\n",
        "\n",
        "df = df_flatten.drop('remetente', 'id') # nesse caso específico os dados são apenas de um remetente, então podemos excluir essa coluna"
      ],
      "metadata": {
        "id": "jGkfWTr6DqRe"
      },
      "execution_count": null,
      "outputs": []
    },
    {
      "cell_type": "code",
      "source": [
        "df.show()"
      ],
      "metadata": {
        "colab": {
          "base_uri": "https://localhost:8080/"
        },
        "id": "eXTH_z1WDqKO",
        "outputId": "af30f5a1-ac31-4e84-9e2f-df2e48f18de0"
      },
      "execution_count": null,
      "outputs": [
        {
          "output_type": "stream",
          "name": "stdout",
          "text": [
            "+------------+------------------+---------+-------------+-------------------+------+------------------+---------------+--------------+--------------------+------------------+-----------------+\n",
            "|id_transacao|             valor|chave_pix|    categoria|   transaction_date|fraude|    remetente_nome|remetente_banco|remetente_tipo|   destinatario_nome|destinatario_banco|destinatario_tipo|\n",
            "+------------+------------------+---------+-------------+-------------------+------+------------------+---------------+--------------+--------------------+------------------+-----------------+\n",
            "|        1000|            588.08|aleatoria|       outros|2021-07-16 05:00:55|     0|Jonathan Gonsalves|            BTG|            PF|         Calebe Melo|             Caixa|               PF|\n",
            "|        1001|           80682.5|  celular|transferencia|2022-04-20 12:34:01|     1|Jonathan Gonsalves|            BTG|            PF|  Davi Lucas Pereira|             Caixa|               PJ|\n",
            "|        1002|             549.9|      cpf|        lazer|2022-07-10 16:51:34|     0|Jonathan Gonsalves|            BTG|            PF|      Sabrina Castro|            Nubank|               PF|\n",
            "|        1003|             90.83|aleatoria|   transporte|2022-10-20 10:57:36|     0|Jonathan Gonsalves|            BTG|            PF|Francisco da Conc...|            Nubank|               PJ|\n",
            "|        1004|13272.619999999999|    email|transferencia|2021-04-06 20:26:51|     0|Jonathan Gonsalves|            BTG|            PF|   Isabelly Ferreira|               BTG|               PJ|\n",
            "|        1005|           9347.58|aleatoria|        saude|2022-07-24 15:22:27|     0|Jonathan Gonsalves|            BTG|            PF|Srta. Maria da Cunha|              Itau|               PJ|\n",
            "|        1006|           7836.76|      cpf|    presentes|2022-10-05 19:20:24|     0|Jonathan Gonsalves|            BTG|            PF|     Catarina Duarte|                C6|               PF|\n",
            "|        1007|           3883.62|      cpf|    vestuario|2021-04-24 17:36:34|     0|Jonathan Gonsalves|            BTG|            PF|       Vitor Correia|                XP|               PJ|\n",
            "|        1008|               4.0|aleatoria|        saude|2021-11-16 21:46:47|     0|Jonathan Gonsalves|            BTG|            PF|         Theo Novaes|                C6|               PJ|\n",
            "|        1009|              24.3|      cpf|transferencia|2021-07-26 02:08:49|     0|Jonathan Gonsalves|            BTG|            PF|     Isabel Caldeira|                XP|               PJ|\n",
            "|        1010|           87555.3|aleatoria|transferencia|2022-03-14 15:34:45|     1|Jonathan Gonsalves|            BTG|            PF|Sr. Henrique Cardoso|            Nubank|               PF|\n",
            "|        1011|          21345.91|      cpf|transferencia|2021-10-31 04:31:51|     1|Jonathan Gonsalves|            BTG|            PF|   Felipe Cavalcanti|            Nubank|               PJ|\n",
            "|        1012|          73605.85|  celular|transferencia|2021-04-30 19:19:56|     1|Jonathan Gonsalves|            BTG|            PF|     Dr. Davi da Luz|          Bradesco|               PJ|\n",
            "|        1013|             93.53|      cpf|  alimentacao|2023-01-13 13:39:57|     0|Jonathan Gonsalves|            BTG|            PF|    Stephany Cardoso|                C6|               PJ|\n",
            "|        1014|            564.11|aleatoria|    vestuario|2022-05-27 23:06:08|     0|Jonathan Gonsalves|            BTG|            PF|   Sra. Julia Araujo|              Itau|               PJ|\n",
            "|        1015|              3.59|    email|        saude|2021-10-06 21:19:58|     0|Jonathan Gonsalves|            BTG|            PF|     Carolina Farias|            Nubank|               PJ|\n",
            "|        1016|          19164.89|    email|  alimentacao|2022-03-06 17:59:43|     0|Jonathan Gonsalves|            BTG|            PF|   Isabelly da Costa|            Nubank|               PJ|\n",
            "|        1017|             68.45|aleatoria|    vestuario|2022-04-01 18:17:40|     0|Jonathan Gonsalves|            BTG|            PF|Joao Miguel Silveira|                C6|               PJ|\n",
            "|        1018|            941.25|  celular|    vestuario|2022-05-23 00:28:13|     0|Jonathan Gonsalves|            BTG|            PF|       Matheus Moura|                C6|               PF|\n",
            "|        1019|27009.910000000003|    email|transferencia|2021-08-04 23:22:37|     1|Jonathan Gonsalves|            BTG|            PF| Gabrielly Goncalves|              Itau|               PJ|\n",
            "+------------+------------------+---------+-------------+-------------------+------+------------------+---------------+--------------+--------------------+------------------+-----------------+\n",
            "only showing top 20 rows\n",
            "\n"
          ]
        }
      ]
    },
    {
      "cell_type": "code",
      "source": [
        "indexer = StringIndexer(\n",
        "    inputCols=[\n",
        "        \"destinatario_nome\",\n",
        "        \"destinatario_banco\",\n",
        "        \"destinatario_tipo\",\n",
        "        \"categoria\",\n",
        "        \"chave_pix\"\n",
        "    ],\n",
        "    outputCols=[\n",
        "        \"destinatario_nome_index\",\n",
        "        \"destinatario_banco_index\",\n",
        "        \"destinatario_tipo_index\",\n",
        "        \"categoria_index\",\n",
        "        \"chave_pix_index\"\n",
        "    ])"
      ],
      "metadata": {
        "id": "75uTsNB-DqCv"
      },
      "execution_count": null,
      "outputs": []
    },
    {
      "cell_type": "code",
      "source": [
        "df_index = indexer.fit(df).transform(df)\n",
        "df_index.show()"
      ],
      "metadata": {
        "colab": {
          "base_uri": "https://localhost:8080/"
        },
        "id": "9JbQfk0FDp4R",
        "outputId": "a9c3abbd-0c5d-4d9e-bfee-919d6233f959"
      },
      "execution_count": null,
      "outputs": [
        {
          "output_type": "stream",
          "name": "stdout",
          "text": [
            "+------------+------------------+---------+-------------+-------------------+------+------------------+---------------+--------------+--------------------+------------------+-----------------+-----------------------+------------------------+-----------------------+---------------+---------------+\n",
            "|id_transacao|             valor|chave_pix|    categoria|   transaction_date|fraude|    remetente_nome|remetente_banco|remetente_tipo|   destinatario_nome|destinatario_banco|destinatario_tipo|destinatario_nome_index|destinatario_banco_index|destinatario_tipo_index|categoria_index|chave_pix_index|\n",
            "+------------+------------------+---------+-------------+-------------------+------+------------------+---------------+--------------+--------------------+------------------+-----------------+-----------------------+------------------------+-----------------------+---------------+---------------+\n",
            "|        1000|            588.08|aleatoria|       outros|2021-07-16 05:00:55|     0|Jonathan Gonsalves|            BTG|            PF|         Calebe Melo|             Caixa|               PF|                12045.0|                     4.0|                    1.0|            6.0|            3.0|\n",
            "|        1001|           80682.5|  celular|transferencia|2022-04-20 12:34:01|     1|Jonathan Gonsalves|            BTG|            PF|  Davi Lucas Pereira|             Caixa|               PJ|                  259.0|                     4.0|                    0.0|            0.0|            2.0|\n",
            "|        1002|             549.9|      cpf|        lazer|2022-07-10 16:51:34|     0|Jonathan Gonsalves|            BTG|            PF|      Sabrina Castro|            Nubank|               PF|                  132.0|                     2.0|                    1.0|            4.0|            1.0|\n",
            "|        1003|             90.83|aleatoria|   transporte|2022-10-20 10:57:36|     0|Jonathan Gonsalves|            BTG|            PF|Francisco da Conc...|            Nubank|               PJ|                10475.0|                     2.0|                    0.0|            8.0|            3.0|\n",
            "|        1004|13272.619999999999|    email|transferencia|2021-04-06 20:26:51|     0|Jonathan Gonsalves|            BTG|            PF|   Isabelly Ferreira|               BTG|               PJ|                 4159.0|                     1.0|                    0.0|            0.0|            0.0|\n",
            "|        1005|           9347.58|aleatoria|        saude|2022-07-24 15:22:27|     0|Jonathan Gonsalves|            BTG|            PF|Srta. Maria da Cunha|              Itau|               PJ|                26853.0|                     3.0|                    0.0|            3.0|            3.0|\n",
            "|        1006|           7836.76|      cpf|    presentes|2022-10-05 19:20:24|     0|Jonathan Gonsalves|            BTG|            PF|     Catarina Duarte|                C6|               PF|                 5578.0|                     5.0|                    1.0|            7.0|            1.0|\n",
            "|        1007|           3883.62|      cpf|    vestuario|2021-04-24 17:36:34|     0|Jonathan Gonsalves|            BTG|            PF|       Vitor Correia|                XP|               PJ|                13528.0|                     0.0|                    0.0|            2.0|            1.0|\n",
            "|        1008|               4.0|aleatoria|        saude|2021-11-16 21:46:47|     0|Jonathan Gonsalves|            BTG|            PF|         Theo Novaes|                C6|               PJ|                 1141.0|                     5.0|                    0.0|            3.0|            3.0|\n",
            "|        1009|              24.3|      cpf|transferencia|2021-07-26 02:08:49|     0|Jonathan Gonsalves|            BTG|            PF|     Isabel Caldeira|                XP|               PJ|                 8369.0|                     0.0|                    0.0|            0.0|            1.0|\n",
            "|        1010|           87555.3|aleatoria|transferencia|2022-03-14 15:34:45|     1|Jonathan Gonsalves|            BTG|            PF|Sr. Henrique Cardoso|            Nubank|               PF|                22115.0|                     2.0|                    1.0|            0.0|            3.0|\n",
            "|        1011|          21345.91|      cpf|transferencia|2021-10-31 04:31:51|     1|Jonathan Gonsalves|            BTG|            PF|   Felipe Cavalcanti|            Nubank|               PJ|                 5897.0|                     2.0|                    0.0|            0.0|            1.0|\n",
            "|        1012|          73605.85|  celular|transferencia|2021-04-30 19:19:56|     1|Jonathan Gonsalves|            BTG|            PF|     Dr. Davi da Luz|          Bradesco|               PJ|                12212.0|                     6.0|                    0.0|            0.0|            2.0|\n",
            "|        1013|             93.53|      cpf|  alimentacao|2023-01-13 13:39:57|     0|Jonathan Gonsalves|            BTG|            PF|    Stephany Cardoso|                C6|               PJ|                   10.0|                     5.0|                    0.0|            1.0|            1.0|\n",
            "|        1014|            564.11|aleatoria|    vestuario|2022-05-27 23:06:08|     0|Jonathan Gonsalves|            BTG|            PF|   Sra. Julia Araujo|              Itau|               PJ|                24413.0|                     3.0|                    0.0|            2.0|            3.0|\n",
            "|        1015|              3.59|    email|        saude|2021-10-06 21:19:58|     0|Jonathan Gonsalves|            BTG|            PF|     Carolina Farias|            Nubank|               PJ|                10121.0|                     2.0|                    0.0|            3.0|            0.0|\n",
            "|        1016|          19164.89|    email|  alimentacao|2022-03-06 17:59:43|     0|Jonathan Gonsalves|            BTG|            PF|   Isabelly da Costa|            Nubank|               PJ|                 6122.0|                     2.0|                    0.0|            1.0|            0.0|\n",
            "|        1017|             68.45|aleatoria|    vestuario|2022-04-01 18:17:40|     0|Jonathan Gonsalves|            BTG|            PF|Joao Miguel Silveira|                C6|               PJ|                 6214.0|                     5.0|                    0.0|            2.0|            3.0|\n",
            "|        1018|            941.25|  celular|    vestuario|2022-05-23 00:28:13|     0|Jonathan Gonsalves|            BTG|            PF|       Matheus Moura|                C6|               PF|                 1829.0|                     5.0|                    1.0|            2.0|            2.0|\n",
            "|        1019|27009.910000000003|    email|transferencia|2021-08-04 23:22:37|     1|Jonathan Gonsalves|            BTG|            PF| Gabrielly Goncalves|              Itau|               PJ|                 5973.0|                     3.0|                    0.0|            0.0|            0.0|\n",
            "+------------+------------------+---------+-------------+-------------------+------+------------------+---------------+--------------+--------------------+------------------+-----------------+-----------------------+------------------------+-----------------------+---------------+---------------+\n",
            "only showing top 20 rows\n",
            "\n"
          ]
        }
      ]
    },
    {
      "cell_type": "code",
      "source": [
        "# filtrar apenas as colunas que quero usar e criar com dataframe com elas (deve ser apenas com colunas numéricas):\n",
        "\n",
        "cols_para_filtrar = [\n",
        "  \"valor\",\n",
        "  \"transaction_date\",\n",
        "  \"destinatario_nome_index\",\n",
        "  \"destinatario_banco_index\",\n",
        "  \"destinatario_tipo_index\",\n",
        "  \"chave_pix_index\",\n",
        "  \"categoria_index\",\n",
        "  \"fraude\"\n",
        "]"
      ],
      "metadata": {
        "id": "rZL0D6GHicZw"
      },
      "execution_count": null,
      "outputs": []
    },
    {
      "cell_type": "code",
      "source": [
        "# SEPARAR DATAFRAME CRIADO EM FRAUDE E NÃO FRAUDE:\n",
        "\n",
        "is_fraud = df_index.select(cols_para_filtrar).filter(\"fraude == 1\")\n",
        "no_fraud = df_index.select(cols_para_filtrar).filter(\"fraude == 0\")\n",
        "\n",
        "\n",
        "no_fraud = no_fraud.sample(False, 0.01, seed = 123)  # PEGAR AMOSTRA DE 1%"
      ],
      "metadata": {
        "id": "CncwK7LdicSU"
      },
      "execution_count": null,
      "outputs": []
    },
    {
      "cell_type": "code",
      "source": [
        "# REUNIR ESSA AMOSTRA PARA O NOSSO DADO NÃO FICAR COM VIÉS, COM OS DADOS QUE SÃO FRAUDE, ASSIM TEMOS 16 MIL REGISTROS PARA NOSSO TESTE\n",
        "\n",
        "df_concat = no_fraud.union(is_fraud)\n",
        "df = df_concat.sort(\"transaction_date\")\n",
        "df.count()"
      ],
      "metadata": {
        "colab": {
          "base_uri": "https://localhost:8080/"
        },
        "id": "5f9IulFDicJl",
        "outputId": "35c8d201-9217-419b-bea9-99339dd337b1"
      },
      "execution_count": null,
      "outputs": [
        {
          "output_type": "execute_result",
          "data": {
            "text/plain": [
              "16202"
            ]
          },
          "metadata": {},
          "execution_count": 30
        }
      ]
    },
    {
      "cell_type": "code",
      "source": [
        "# SEPARAR DATAFRAME DE TESTE E TREINO:\n",
        "\n",
        "train, test = df.randomSplit([0.7, 0.3], seed = 123) #70% DE TREINO E 30% DE TESTE\n",
        "print(\"train =\", train.count(), \" test =\", test.count())"
      ],
      "metadata": {
        "colab": {
          "base_uri": "https://localhost:8080/"
        },
        "id": "lDiMlgVEjHoR",
        "outputId": "f2fc4544-9135-45af-a94e-31a43b957cf5"
      },
      "execution_count": null,
      "outputs": [
        {
          "output_type": "stream",
          "name": "stdout",
          "text": [
            "train = 11278  test = 4924\n"
          ]
        }
      ]
    },
    {
      "cell_type": "code",
      "source": [
        "# CRIAMOS A FUNÇÃO UDF, QUE IRÁ CRIAR UMA NOVA COLUNA CHAMADA IS_FRAUDE E CASO NOSSA COLUNA DE FRAUDE SEJA > 0, ELE VAI COLOCAR ESSA COLUNA COMO 1.0, CASO CONTRÁRIO VAI COLOCAR COMO 0.0\n",
        "\n",
        "is_fraud = udf(lambda fraud: 1.0 if fraud > 0 else 0.0, DoubleType())\n",
        "train = train.withColumn(\"is_fraud\", is_fraud(train.fraude))"
      ],
      "metadata": {
        "id": "XwarPzdgjHlb"
      },
      "execution_count": null,
      "outputs": []
    },
    {
      "cell_type": "code",
      "source": [
        "# CRIAR NOSSO MODELO DE MACHINE LEARNING\n",
        "\n",
        "# Create the feature vectors.\n",
        "# VectorAssembler is a transformer that combines a given list of columns into a single vector column.\n",
        "assembler = VectorAssembler(\n",
        "  inputCols = [x for x in train.columns if x not in [\"transaction_date\", \"fraude\", \"is_fraud\"]],\n",
        "  outputCol = \"features\")\n",
        "\n",
        "# Use Logistic Regression.\n",
        "# is a machine learning algorithm that is used for classification tasks\n",
        "lr = LogisticRegression().setParams(\n",
        "    maxIter = 100000,\n",
        "    labelCol = \"is_fraud\",\n",
        "    predictionCol = \"prediction\")\n",
        "\n",
        "\n",
        "# This will train a logistic regression model on the input data and return a\n",
        "# LogisticRegressionModel object which can be used to make predictions on new data.\n",
        "model = Pipeline(stages = [assembler, lr]).fit(train)"
      ],
      "metadata": {
        "id": "t5VRZF6xjHi5"
      },
      "execution_count": null,
      "outputs": []
    },
    {
      "cell_type": "code",
      "source": [
        "# VERIFICAR A PREDIÇÃO DO MODELO:\n",
        "\n",
        "predicted = model.transform(test)\n",
        "\n",
        "predicted = predicted.withColumn(\"is_fraud\", is_fraud(predicted.fraude))\n",
        "predicted.crosstab(\"is_fraud\", \"prediction\").show()\n",
        "\n",
        "# NOSSO MODELO CONSEGUIU PREVER QUASE 100% DOS CASOS QUE SÃO FRAUDE, APENAS COM ERRO EM 2 CASOS, QUE NÃO ERAM FRAUDES, MAS A PREDIÇÃO DISSE QUE ERA FRAUDE"
      ],
      "metadata": {
        "colab": {
          "base_uri": "https://localhost:8080/"
        },
        "id": "jZwfesr4jsyJ",
        "outputId": "cdb47f84-b8a0-42d6-8a4e-4d8884771171"
      },
      "execution_count": null,
      "outputs": [
        {
          "output_type": "stream",
          "name": "stdout",
          "text": [
            "+-------------------+---+----+\n",
            "|is_fraud_prediction|0.0| 1.0|\n",
            "+-------------------+---+----+\n",
            "|                1.0|  0|4660|\n",
            "|                0.0|262|   2|\n",
            "+-------------------+---+----+\n",
            "\n"
          ]
        }
      ]
    }
  ]
}